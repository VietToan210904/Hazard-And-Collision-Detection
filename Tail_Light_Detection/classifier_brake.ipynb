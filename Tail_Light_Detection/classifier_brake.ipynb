{
 "cells": [
  {
   "cell_type": "code",
   "execution_count": 1,
   "id": "a401b3b0",
   "metadata": {},
   "outputs": [
    {
     "name": "stdout",
     "output_type": "stream",
     "text": [
      "2.10.1\n"
     ]
    }
   ],
   "source": [
    "import os\n",
    "import tensorflow as tf\n",
    "print(tf.__version__)\n"
   ]
  },
  {
   "cell_type": "code",
   "execution_count": 2,
   "id": "34e34779",
   "metadata": {},
   "outputs": [
    {
     "name": "stdout",
     "output_type": "stream",
     "text": [
      "TensorFlow version: 2.10.1\n",
      "Number of GPUs Available: 1\n",
      "\n",
      "GPU Details (from TensorFlow):\n",
      " [0] Name: /physical_device:GPU:0 | Type: GPU\n",
      "\n",
      "GPU Details (from GPUtil):\n",
      " [0] ID: 0 | Name: NVIDIA GeForce RTX 4070 SUPER | Load: 35.0% | Memory Free: 283.0 MB\n"
     ]
    }
   ],
   "source": [
    "import tensorflow as tf\n",
    "import GPUtil\n",
    "\n",
    "# I am checking the TensorFlow with GPU information, since I am using two differente conda evn to run 2 tasks\n",
    "print(\"TensorFlow version:\", tf.__version__)\n",
    "gpus = tf.config.list_physical_devices('GPU')\n",
    "print(f\"Number of GPUs Available: {len(gpus)}\")\n",
    "\n",
    "if gpus:\n",
    "    print(\"\\nGPU Details (from TensorFlow):\")\n",
    "    for i, gpu in enumerate(gpus):\n",
    "        print(f\" [{i}] Name: {gpu.name} | Type: {gpu.device_type}\")\n",
    "\n",
    "    print(\"\\nGPU Details (from GPUtil):\")\n",
    "    for i, gpu in enumerate(GPUtil.getGPUs()):\n",
    "        print(f\" [{i}] ID: {gpu.id} | Name: {gpu.name} | Load: {gpu.load*100:.1f}% | Memory Free: {gpu.memoryFree} MB\")\n",
    "else:\n",
    "    print(\"No GPU detected. Running on CPU.\")"
   ]
  },
  {
   "cell_type": "code",
   "execution_count": 3,
   "id": "6154f0c8",
   "metadata": {},
   "outputs": [],
   "source": [
    "import os\n",
    "import cv2\n",
    "import math\n",
    "import shutil\n",
    "import random\n",
    "from tqdm import tqdm\n",
    "import pandas as pd\n",
    "import numpy as np\n",
    "import matplotlib.pyplot as plt\n",
    "import seaborn as sns\n",
    "\n",
    "from tensorflow import keras\n",
    "import tensorflow as tf\n",
    "from tensorflow.keras import layers, models, applications, preprocessing, optimizers, callbacks, regularizers\n",
    "from tensorflow.keras.regularizers import l2\n",
    "from tensorflow.keras.preprocessing.image import ImageDataGenerator\n",
    "from tensorflow.keras.applications import ResNet50\n",
    "from tensorflow.keras.models import Model\n",
    "from tensorflow.keras.layers import Dense, GlobalAveragePooling2D\n",
    "from tensorflow.keras.optimizers import Adam, RMSprop, Adadelta\n",
    "from tensorflow.keras.callbacks import ModelCheckpoint, EarlyStopping\n",
    "from tensorflow.keras import models, layers, optimizers, callbacks\n",
    "from tensorflow.keras.initializers import glorot_uniform, he_normal\n",
    "from tensorflow.keras.utils import plot_model, model_to_dot\n",
    "from tensorflow.keras.models import Sequential, Model\n",
    "from tensorflow.keras.layers import Conv2D, MaxPooling2D, GlobalAveragePooling2D, AveragePooling2D, Input, Dense, Lambda, Flatten, Dropout, BatchNormalization, Activation, ZeroPadding2D, Add\n",
    "from tensorflow.keras.callbacks import EarlyStopping, ModelCheckpoint, TensorBoard, ReduceLROnPlateau\n",
    "\n",
    "import zipfile\n",
    "from zipfile import ZipFile\n",
    "from IPython import display\n",
    "from IPython.display import HTML, display, clear_output, SVG, set_matplotlib_formats, Image\n",
    "\n",
    "from sklearn.model_selection import train_test_split\n",
    "from sklearn.metrics import accuracy_score, classification_report, confusion_matrix, recall_score, precision_score, f1_score\n",
    "from sklearn.preprocessing import StandardScaler, MinMaxScaler\n",
    "from sklearn.utils.class_weight import compute_class_weight\n",
    "\n",
    "import warnings\n",
    "warnings.filterwarnings(\"ignore\")"
   ]
  },
  {
   "cell_type": "code",
   "execution_count": 4,
   "id": "27b02f4a",
   "metadata": {},
   "outputs": [],
   "source": [
    "IMG_SIZE = (64, 64)\n",
    "BATCH_SIZE = 32\n",
    "SPLIT_DATA = \"C:/Users/tonyh_yxuq8za/Desktop/TONY_AI/Tail_Light_Detection/Data_Brake_Split\""
   ]
  },
  {
   "cell_type": "code",
   "execution_count": 5,
   "id": "590a99bc",
   "metadata": {},
   "outputs": [
    {
     "name": "stdout",
     "output_type": "stream",
     "text": [
      "Found 125656 images belonging to 2 classes.\n",
      "Found 26926 images belonging to 2 classes.\n",
      "Found 26928 images belonging to 2 classes.\n"
     ]
    }
   ],
   "source": [
    "train_gen = ImageDataGenerator(\n",
    "    rescale=1./255\n",
    ").flow_from_directory(\n",
    "    os.path.join(SPLIT_DATA, \"train\"),\n",
    "    target_size=IMG_SIZE,\n",
    "    batch_size=BATCH_SIZE,\n",
    "    class_mode=\"categorical\"\n",
    ")\n",
    "\n",
    "val_gen = ImageDataGenerator(\n",
    "    rescale=1./255\n",
    ").flow_from_directory(\n",
    "    os.path.join(SPLIT_DATA, \"val\"),\n",
    "    target_size=IMG_SIZE,\n",
    "    batch_size=BATCH_SIZE,\n",
    "    class_mode=\"categorical\"\n",
    ")\n",
    "\n",
    "test_gen = ImageDataGenerator(\n",
    "    rescale=1./255\n",
    ").flow_from_directory(\n",
    "    os.path.join(SPLIT_DATA, \"test\"),\n",
    "    target_size=IMG_SIZE,\n",
    "    batch_size=BATCH_SIZE,\n",
    "    class_mode=\"categorical\",\n",
    "    shuffle=False\n",
    ")\n"
   ]
  },
  {
   "cell_type": "code",
   "execution_count": 6,
   "id": "8a58c594",
   "metadata": {},
   "outputs": [
    {
     "name": "stdout",
     "output_type": "stream",
     "text": [
      "Class indices: {'brake_brakeoff': 0, 'brake_brakeon': 1}\n",
      "Number of classes: 2\n",
      "Number of training samples: 125656\n",
      "Number of validation samples: 26926\n",
      "Number of test samples: 26928\n"
     ]
    }
   ],
   "source": [
    "NUM_CLASSES = len(train_gen.class_indices)\n",
    "print(\"Class indices:\", train_gen.class_indices)\n",
    "print(\"Number of classes:\", NUM_CLASSES)\n",
    "print(\"Number of training samples:\", train_gen.samples)\n",
    "print(\"Number of validation samples:\", val_gen.samples)\n",
    "print(\"Number of test samples:\", test_gen.samples)"
   ]
  },
  {
   "cell_type": "code",
   "execution_count": 7,
   "id": "2280bb79",
   "metadata": {},
   "outputs": [
    {
     "name": "stdout",
     "output_type": "stream",
     "text": [
      "Class weights: {0: 0.9287213599408721, 1: 1.083129331448471}\n"
     ]
    }
   ],
   "source": [
    "y_train = train_gen.classes\n",
    "cw = compute_class_weight('balanced', classes=np.unique(y_train), y=y_train)\n",
    "class_weight = dict(enumerate(cw))\n",
    "print(\"Class weights:\", class_weight)"
   ]
  },
  {
   "cell_type": "code",
   "execution_count": 8,
   "id": "cf2e4fa1",
   "metadata": {},
   "outputs": [],
   "source": [
    "CHECKPOINTING_DIR = \"C:/Users/tonyh_yxuq8za/Desktop/TONY_AI/BRAKE_CHECK_MAIN_5\"\n",
    "os.makedirs(CHECKPOINTING_DIR, exist_ok = True)"
   ]
  },
  {
   "cell_type": "code",
   "execution_count": 9,
   "id": "44577d83",
   "metadata": {},
   "outputs": [],
   "source": [
    "CHECKPOINTING_PATH = os.path.join(\n",
    "    CHECKPOINTING_DIR,\n",
    "    \"best_model_brake_main_5.keras\"\n",
    ")"
   ]
  },
  {
   "cell_type": "code",
   "execution_count": 10,
   "id": "9ecdb156",
   "metadata": {},
   "outputs": [],
   "source": [
    "checkpointing_cb = ModelCheckpoint(\n",
    "    filepath = CHECKPOINTING_PATH,\n",
    "    monitor = \"val_loss\",\n",
    "    verbose = 1,\n",
    "    save_best_only = True,\n",
    "    save_weights_only = False,\n",
    "    mode = \"min\",\n",
    "    save_freq = \"epoch\"\n",
    ")"
   ]
  },
  {
   "cell_type": "code",
   "execution_count": 11,
   "id": "5e37708c",
   "metadata": {},
   "outputs": [],
   "source": [
    "model = models.Sequential([\n",
    "    layers.Input(shape=(64, 64, 3)),\n",
    "    \n",
    "    layers.Conv2D(32, (3,3), activation='relu'),\n",
    "    layers.BatchNormalization(),\n",
    "    layers.MaxPooling2D(pool_size=(2, 2)),\n",
    "    \n",
    "    layers.Conv2D(64, (3, 3), activation='relu'),\n",
    "    layers.BatchNormalization(),\n",
    "    layers.MaxPooling2D(pool_size=(2, 2)),\n",
    "\n",
    "    layers.Conv2D(128, (3, 3), activation='relu'),\n",
    "    layers.BatchNormalization(),\n",
    "    layers.MaxPooling2D(pool_size=(2, 2)),\n",
    "\n",
    "    layers.Flatten(),\n",
    "    layers.Dropout(0.4),\n",
    "    layers.Dense(128, activation='relu'),\n",
    "    layers.Dropout(0.3),\n",
    "    layers.Dense(NUM_CLASSES, activation='softmax')\n",
    "])\n",
    "\n",
    "model.compile(\n",
    "    optimizer='adam',\n",
    "    loss='categorical_crossentropy',\n",
    "    metrics=['accuracy']\n",
    ")\n"
   ]
  },
  {
   "cell_type": "code",
   "execution_count": 12,
   "id": "191b822f",
   "metadata": {},
   "outputs": [
    {
     "name": "stdout",
     "output_type": "stream",
     "text": [
      "Model: \"sequential\"\n",
      "_________________________________________________________________\n",
      " Layer (type)                Output Shape              Param #   \n",
      "=================================================================\n",
      " conv2d (Conv2D)             (None, 62, 62, 32)        896       \n",
      "                                                                 \n",
      " batch_normalization (BatchN  (None, 62, 62, 32)       128       \n",
      " ormalization)                                                   \n",
      "                                                                 \n",
      " max_pooling2d (MaxPooling2D  (None, 31, 31, 32)       0         \n",
      " )                                                               \n",
      "                                                                 \n",
      " conv2d_1 (Conv2D)           (None, 29, 29, 64)        18496     \n",
      "                                                                 \n",
      " batch_normalization_1 (Batc  (None, 29, 29, 64)       256       \n",
      " hNormalization)                                                 \n",
      "                                                                 \n",
      " max_pooling2d_1 (MaxPooling  (None, 14, 14, 64)       0         \n",
      " 2D)                                                             \n",
      "                                                                 \n",
      " conv2d_2 (Conv2D)           (None, 12, 12, 128)       73856     \n",
      "                                                                 \n",
      " batch_normalization_2 (Batc  (None, 12, 12, 128)      512       \n",
      " hNormalization)                                                 \n",
      "                                                                 \n",
      " max_pooling2d_2 (MaxPooling  (None, 6, 6, 128)        0         \n",
      " 2D)                                                             \n",
      "                                                                 \n",
      " flatten (Flatten)           (None, 4608)              0         \n",
      "                                                                 \n",
      " dropout (Dropout)           (None, 4608)              0         \n",
      "                                                                 \n",
      " dense (Dense)               (None, 128)               589952    \n",
      "                                                                 \n",
      " dropout_1 (Dropout)         (None, 128)               0         \n",
      "                                                                 \n",
      " dense_1 (Dense)             (None, 2)                 258       \n",
      "                                                                 \n",
      "=================================================================\n",
      "Total params: 684,354\n",
      "Trainable params: 683,906\n",
      "Non-trainable params: 448\n",
      "_________________________________________________________________\n"
     ]
    }
   ],
   "source": [
    "model.summary()"
   ]
  },
  {
   "cell_type": "code",
   "execution_count": 13,
   "id": "29e5e598",
   "metadata": {},
   "outputs": [],
   "source": [
    "reduce_lr_cb = ReduceLROnPlateau(\n",
    "    monitor='val_loss',\n",
    "    factor=0.5,\n",
    "    patience=3,\n",
    "    min_lr=1e-6,\n",
    "    verbose=1,\n",
    "    mode = 'min'\n",
    ")\n",
    "\n",
    "earlystop_cb = EarlyStopping(\n",
    "    monitor='val_loss',\n",
    "    patience= 10,\n",
    "    restore_best_weights=True,\n",
    "    verbose=1,\n",
    "    mode = 'min'\n",
    ")"
   ]
  },
  {
   "cell_type": "code",
   "execution_count": 14,
   "id": "05f78d9c",
   "metadata": {},
   "outputs": [
    {
     "name": "stdout",
     "output_type": "stream",
     "text": [
      "Epoch 1/100\n",
      "3925/3927 [============================>.] - ETA: 0s - loss: 0.2819 - accuracy: 0.8859\n",
      "Epoch 1: val_loss improved from inf to 0.37231, saving model to C:/Users/tonyh_yxuq8za/Desktop/TONY_AI/BRAKE_CHECK_MAIN_5\\best_model_brake_main_5.keras\n",
      "3927/3927 [==============================] - 106s 26ms/step - loss: 0.2819 - accuracy: 0.8859 - val_loss: 0.3723 - val_accuracy: 0.8474 - lr: 0.0010\n",
      "Epoch 2/100\n",
      "3924/3927 [============================>.] - ETA: 0s - loss: 0.1951 - accuracy: 0.9268\n",
      "Epoch 2: val_loss improved from 0.37231 to 0.20665, saving model to C:/Users/tonyh_yxuq8za/Desktop/TONY_AI/BRAKE_CHECK_MAIN_5\\best_model_brake_main_5.keras\n",
      "3927/3927 [==============================] - 46s 12ms/step - loss: 0.1951 - accuracy: 0.9268 - val_loss: 0.2066 - val_accuracy: 0.9178 - lr: 0.0010\n",
      "Epoch 3/100\n",
      "3927/3927 [==============================] - ETA: 0s - loss: 0.1723 - accuracy: 0.9367\n",
      "Epoch 3: val_loss improved from 0.20665 to 0.16412, saving model to C:/Users/tonyh_yxuq8za/Desktop/TONY_AI/BRAKE_CHECK_MAIN_5\\best_model_brake_main_5.keras\n",
      "3927/3927 [==============================] - 48s 12ms/step - loss: 0.1723 - accuracy: 0.9367 - val_loss: 0.1641 - val_accuracy: 0.9376 - lr: 0.0010\n",
      "Epoch 4/100\n",
      "3926/3927 [============================>.] - ETA: 0s - loss: 0.1594 - accuracy: 0.9414\n",
      "Epoch 4: val_loss improved from 0.16412 to 0.15871, saving model to C:/Users/tonyh_yxuq8za/Desktop/TONY_AI/BRAKE_CHECK_MAIN_5\\best_model_brake_main_5.keras\n",
      "3927/3927 [==============================] - 49s 12ms/step - loss: 0.1594 - accuracy: 0.9414 - val_loss: 0.1587 - val_accuracy: 0.9413 - lr: 0.0010\n",
      "Epoch 5/100\n",
      "3927/3927 [==============================] - ETA: 0s - loss: 0.1477 - accuracy: 0.9456\n",
      "Epoch 5: val_loss did not improve from 0.15871\n",
      "3927/3927 [==============================] - 46s 12ms/step - loss: 0.1477 - accuracy: 0.9456 - val_loss: 0.1831 - val_accuracy: 0.9373 - lr: 0.0010\n",
      "Epoch 6/100\n",
      "3926/3927 [============================>.] - ETA: 0s - loss: 0.1365 - accuracy: 0.9504\n",
      "Epoch 6: val_loss improved from 0.15871 to 0.14294, saving model to C:/Users/tonyh_yxuq8za/Desktop/TONY_AI/BRAKE_CHECK_MAIN_5\\best_model_brake_main_5.keras\n",
      "3927/3927 [==============================] - 46s 12ms/step - loss: 0.1365 - accuracy: 0.9504 - val_loss: 0.1429 - val_accuracy: 0.9501 - lr: 0.0010\n",
      "Epoch 7/100\n",
      "3923/3927 [============================>.] - ETA: 0s - loss: 0.1310 - accuracy: 0.9526\n",
      "Epoch 7: val_loss improved from 0.14294 to 0.13162, saving model to C:/Users/tonyh_yxuq8za/Desktop/TONY_AI/BRAKE_CHECK_MAIN_5\\best_model_brake_main_5.keras\n",
      "3927/3927 [==============================] - 48s 12ms/step - loss: 0.1310 - accuracy: 0.9526 - val_loss: 0.1316 - val_accuracy: 0.9518 - lr: 0.0010\n",
      "Epoch 8/100\n",
      "3925/3927 [============================>.] - ETA: 0s - loss: 0.1229 - accuracy: 0.9546\n",
      "Epoch 8: val_loss improved from 0.13162 to 0.12909, saving model to C:/Users/tonyh_yxuq8za/Desktop/TONY_AI/BRAKE_CHECK_MAIN_5\\best_model_brake_main_5.keras\n",
      "3927/3927 [==============================] - 47s 12ms/step - loss: 0.1229 - accuracy: 0.9546 - val_loss: 0.1291 - val_accuracy: 0.9560 - lr: 0.0010\n",
      "Epoch 9/100\n",
      "3923/3927 [============================>.] - ETA: 0s - loss: 0.1180 - accuracy: 0.9567\n",
      "Epoch 9: val_loss improved from 0.12909 to 0.12505, saving model to C:/Users/tonyh_yxuq8za/Desktop/TONY_AI/BRAKE_CHECK_MAIN_5\\best_model_brake_main_5.keras\n",
      "3927/3927 [==============================] - 46s 12ms/step - loss: 0.1180 - accuracy: 0.9567 - val_loss: 0.1251 - val_accuracy: 0.9549 - lr: 0.0010\n",
      "Epoch 10/100\n",
      "3925/3927 [============================>.] - ETA: 0s - loss: 0.1136 - accuracy: 0.9573\n",
      "Epoch 10: val_loss improved from 0.12505 to 0.12328, saving model to C:/Users/tonyh_yxuq8za/Desktop/TONY_AI/BRAKE_CHECK_MAIN_5\\best_model_brake_main_5.keras\n",
      "3927/3927 [==============================] - 46s 12ms/step - loss: 0.1136 - accuracy: 0.9573 - val_loss: 0.1233 - val_accuracy: 0.9577 - lr: 0.0010\n",
      "Epoch 11/100\n",
      "3923/3927 [============================>.] - ETA: 0s - loss: 0.1081 - accuracy: 0.9598\n",
      "Epoch 11: val_loss improved from 0.12328 to 0.12032, saving model to C:/Users/tonyh_yxuq8za/Desktop/TONY_AI/BRAKE_CHECK_MAIN_5\\best_model_brake_main_5.keras\n",
      "3927/3927 [==============================] - 49s 12ms/step - loss: 0.1082 - accuracy: 0.9598 - val_loss: 0.1203 - val_accuracy: 0.9568 - lr: 0.0010\n",
      "Epoch 12/100\n",
      "3923/3927 [============================>.] - ETA: 0s - loss: 0.1033 - accuracy: 0.9614\n",
      "Epoch 12: val_loss improved from 0.12032 to 0.11674, saving model to C:/Users/tonyh_yxuq8za/Desktop/TONY_AI/BRAKE_CHECK_MAIN_5\\best_model_brake_main_5.keras\n",
      "3927/3927 [==============================] - 47s 12ms/step - loss: 0.1033 - accuracy: 0.9614 - val_loss: 0.1167 - val_accuracy: 0.9578 - lr: 0.0010\n",
      "Epoch 13/100\n",
      "3922/3927 [============================>.] - ETA: 0s - loss: 0.1001 - accuracy: 0.9620\n",
      "Epoch 13: val_loss did not improve from 0.11674\n",
      "3927/3927 [==============================] - 47s 12ms/step - loss: 0.1002 - accuracy: 0.9620 - val_loss: 0.1203 - val_accuracy: 0.9589 - lr: 0.0010\n",
      "Epoch 14/100\n",
      "3926/3927 [============================>.] - ETA: 0s - loss: 0.0967 - accuracy: 0.9637\n",
      "Epoch 14: val_loss did not improve from 0.11674\n",
      "3927/3927 [==============================] - 47s 12ms/step - loss: 0.0967 - accuracy: 0.9637 - val_loss: 0.1255 - val_accuracy: 0.9541 - lr: 0.0010\n",
      "Epoch 15/100\n",
      "3922/3927 [============================>.] - ETA: 0s - loss: 0.0946 - accuracy: 0.9649\n",
      "Epoch 15: val_loss did not improve from 0.11674\n",
      "\n",
      "Epoch 15: ReduceLROnPlateau reducing learning rate to 0.0005000000237487257.\n",
      "3927/3927 [==============================] - 46s 12ms/step - loss: 0.0946 - accuracy: 0.9649 - val_loss: 0.1244 - val_accuracy: 0.9587 - lr: 0.0010\n",
      "Epoch 16/100\n",
      "3923/3927 [============================>.] - ETA: 0s - loss: 0.0769 - accuracy: 0.9696\n",
      "Epoch 16: val_loss improved from 0.11674 to 0.11483, saving model to C:/Users/tonyh_yxuq8za/Desktop/TONY_AI/BRAKE_CHECK_MAIN_5\\best_model_brake_main_5.keras\n",
      "3927/3927 [==============================] - 46s 12ms/step - loss: 0.0769 - accuracy: 0.9697 - val_loss: 0.1148 - val_accuracy: 0.9627 - lr: 5.0000e-04\n",
      "Epoch 17/100\n",
      "3926/3927 [============================>.] - ETA: 0s - loss: 0.0727 - accuracy: 0.9718\n",
      "Epoch 17: val_loss improved from 0.11483 to 0.10915, saving model to C:/Users/tonyh_yxuq8za/Desktop/TONY_AI/BRAKE_CHECK_MAIN_5\\best_model_brake_main_5.keras\n",
      "3927/3927 [==============================] - 46s 12ms/step - loss: 0.0727 - accuracy: 0.9718 - val_loss: 0.1092 - val_accuracy: 0.9630 - lr: 5.0000e-04\n",
      "Epoch 18/100\n",
      "3923/3927 [============================>.] - ETA: 0s - loss: 0.0695 - accuracy: 0.9725\n",
      "Epoch 18: val_loss did not improve from 0.10915\n",
      "3927/3927 [==============================] - 48s 12ms/step - loss: 0.0696 - accuracy: 0.9725 - val_loss: 0.1188 - val_accuracy: 0.9620 - lr: 5.0000e-04\n",
      "Epoch 19/100\n",
      "3923/3927 [============================>.] - ETA: 0s - loss: 0.0661 - accuracy: 0.9735\n",
      "Epoch 19: val_loss did not improve from 0.10915\n",
      "3927/3927 [==============================] - 47s 12ms/step - loss: 0.0662 - accuracy: 0.9735 - val_loss: 0.1237 - val_accuracy: 0.9630 - lr: 5.0000e-04\n",
      "Epoch 20/100\n",
      "3922/3927 [============================>.] - ETA: 0s - loss: 0.0656 - accuracy: 0.9742\n",
      "Epoch 20: val_loss did not improve from 0.10915\n",
      "\n",
      "Epoch 20: ReduceLROnPlateau reducing learning rate to 0.0002500000118743628.\n",
      "3927/3927 [==============================] - 46s 12ms/step - loss: 0.0656 - accuracy: 0.9742 - val_loss: 0.1302 - val_accuracy: 0.9595 - lr: 5.0000e-04\n",
      "Epoch 21/100\n",
      "3926/3927 [============================>.] - ETA: 0s - loss: 0.0556 - accuracy: 0.9776\n",
      "Epoch 21: val_loss did not improve from 0.10915\n",
      "3927/3927 [==============================] - 47s 12ms/step - loss: 0.0556 - accuracy: 0.9775 - val_loss: 0.1197 - val_accuracy: 0.9638 - lr: 2.5000e-04\n",
      "Epoch 22/100\n",
      "3924/3927 [============================>.] - ETA: 0s - loss: 0.0532 - accuracy: 0.9780\n",
      "Epoch 22: val_loss did not improve from 0.10915\n",
      "3927/3927 [==============================] - 49s 12ms/step - loss: 0.0532 - accuracy: 0.9780 - val_loss: 0.1263 - val_accuracy: 0.9630 - lr: 2.5000e-04\n",
      "Epoch 23/100\n",
      "3924/3927 [============================>.] - ETA: 0s - loss: 0.0537 - accuracy: 0.9780\n",
      "Epoch 23: val_loss did not improve from 0.10915\n",
      "\n",
      "Epoch 23: ReduceLROnPlateau reducing learning rate to 0.0001250000059371814.\n",
      "3927/3927 [==============================] - 46s 12ms/step - loss: 0.0537 - accuracy: 0.9780 - val_loss: 0.1270 - val_accuracy: 0.9630 - lr: 2.5000e-04\n",
      "Epoch 24/100\n",
      "3925/3927 [============================>.] - ETA: 0s - loss: 0.0487 - accuracy: 0.9795\n",
      "Epoch 24: val_loss did not improve from 0.10915\n",
      "3927/3927 [==============================] - 47s 12ms/step - loss: 0.0487 - accuracy: 0.9795 - val_loss: 0.1256 - val_accuracy: 0.9638 - lr: 1.2500e-04\n",
      "Epoch 25/100\n",
      "3923/3927 [============================>.] - ETA: 0s - loss: 0.0483 - accuracy: 0.9799\n",
      "Epoch 25: val_loss did not improve from 0.10915\n",
      "3927/3927 [==============================] - 48s 12ms/step - loss: 0.0483 - accuracy: 0.9799 - val_loss: 0.1231 - val_accuracy: 0.9639 - lr: 1.2500e-04\n",
      "Epoch 26/100\n",
      "3925/3927 [============================>.] - ETA: 0s - loss: 0.0470 - accuracy: 0.9801\n",
      "Epoch 26: val_loss did not improve from 0.10915\n",
      "\n",
      "Epoch 26: ReduceLROnPlateau reducing learning rate to 6.25000029685907e-05.\n",
      "3927/3927 [==============================] - 47s 12ms/step - loss: 0.0470 - accuracy: 0.9801 - val_loss: 0.1212 - val_accuracy: 0.9646 - lr: 1.2500e-04\n",
      "Epoch 27/100\n",
      "3926/3927 [============================>.] - ETA: 0s - loss: 0.0462 - accuracy: 0.9804\n",
      "Epoch 27: val_loss did not improve from 0.10915\n",
      "Restoring model weights from the end of the best epoch: 17.\n",
      "3927/3927 [==============================] - 49s 12ms/step - loss: 0.0461 - accuracy: 0.9804 - val_loss: 0.1259 - val_accuracy: 0.9644 - lr: 6.2500e-05\n",
      "Epoch 27: early stopping\n"
     ]
    }
   ],
   "source": [
    "history = model.fit(\n",
    "    train_gen,\n",
    "    epochs=100, \n",
    "    validation_data=val_gen,\n",
    "    class_weight=class_weight,\n",
    "    callbacks=[checkpointing_cb, reduce_lr_cb, earlystop_cb],\n",
    "    verbose=1\n",
    ")"
   ]
  },
  {
   "cell_type": "code",
   "execution_count": 15,
   "id": "05e40b03",
   "metadata": {},
   "outputs": [
    {
     "name": "stdout",
     "output_type": "stream",
     "text": [
      "842/842 [==============================] - 17s 20ms/step - loss: 0.1116 - accuracy: 0.9619\n",
      "Test Loss: 0.11157802492380142\n",
      "Test Accuracy: 0.9619355201721191\n",
      "3927/3927 [==============================] - 39s 10ms/step - loss: 0.0434 - accuracy: 0.9830\n",
      "Train Loss: 0.04342721030116081\n",
      "Train Accuracy: 0.9829614162445068\n"
     ]
    }
   ],
   "source": [
    "test_loss, test_accuracy = model.evaluate(test_gen, steps = len(test_gen), verbose = 1)\n",
    "print(f\"Test Loss: {test_loss}\")\n",
    "print(f\"Test Accuracy: {test_accuracy}\")\n",
    "\n",
    "train_loss, train_accuracy = model.evaluate(train_gen, steps = len(train_gen), verbose = 1)\n",
    "print(f\"Train Loss: {train_loss}\")\n",
    "print(f\"Train Accuracy: {train_accuracy}\")"
   ]
  },
  {
   "cell_type": "code",
   "execution_count": 16,
   "id": "30c51b1f",
   "metadata": {},
   "outputs": [
    {
     "name": "stdout",
     "output_type": "stream",
     "text": [
      "842/842 [==============================] - 8s 10ms/step - loss: 0.1092 - accuracy: 0.9630\n",
      "Validation Loss: 0.10915350168943405\n",
      "Validation Accuracy: 0.9629725813865662\n"
     ]
    }
   ],
   "source": [
    "val_loss, val_accuracy = model.evaluate(val_gen, steps = len(val_gen), verbose = 1)\n",
    "print(f\"Validation Loss: {val_loss}\")\n",
    "print(f\"Validation Accuracy: {val_accuracy}\")"
   ]
  },
  {
   "cell_type": "code",
   "execution_count": 22,
   "id": "6a34a117",
   "metadata": {},
   "outputs": [],
   "source": [
    "y_test = test_gen.classes"
   ]
  },
  {
   "cell_type": "code",
   "execution_count": 23,
   "metadata": {},
   "outputs": [
    {
     "name": "stdout",
     "output_type": "stream",
     "text": [
      "842/842 [==============================] - 19s 23ms/step\n"
     ]
    }
   ],
   "source": [
    "y_preds =  model.predict(test_gen, steps = len(test_gen))\n",
    "y_preds_model = np.argmax(y_preds, axis = 1)"
   ]
  },
  {
   "cell_type": "code",
   "execution_count": 24,
   "id": "87adea97",
   "metadata": {},
   "outputs": [
    {
     "name": "stdout",
     "output_type": "stream",
     "text": [
      "Accuracy Score: 0.961935531788473\n",
      "Precision Score: 0.9627169017550052\n",
      "Recall Score: 0.9608187945892034\n",
      "F1 Score: 0.961636603360525\n"
     ]
    }
   ],
   "source": [
    "accuracy_score_baseline_model = accuracy_score(y_test, y_preds_model)\n",
    "print(f\"Accuracy Score: {accuracy_score_baseline_model}\")\n",
    "precision_score_baseline_model = precision_score(y_test, y_preds_model, average = \"macro\")\n",
    "print(f\"Precision Score: {precision_score_baseline_model}\")\n",
    "recall_score_baseline_model = recall_score(y_test, y_preds_model, average = \"macro\")\n",
    "print(f\"Recall Score: {recall_score_baseline_model}\")\n",
    "f1_score_baseline_model = f1_score(y_test, y_preds_model, average = \"macro\")\n",
    "print(f\"F1 Score: {f1_score_baseline_model}\")"
   ]
  },
  {
   "cell_type": "code",
   "execution_count": 17,
   "id": "2b60ef96",
   "metadata": {},
   "outputs": [
    {
     "name": "stdout",
     "output_type": "stream",
     "text": [
      "842/842 [==============================] - 8s 10ms/step\n",
      "Classification Report:\n",
      "                precision    recall  f1-score   support\n",
      "\n",
      "brake_brakeoff       0.95      0.98      0.97     14497\n",
      " brake_brakeon       0.97      0.95      0.96     12431\n",
      "\n",
      "      accuracy                           0.96     26928\n",
      "     macro avg       0.96      0.96      0.96     26928\n",
      "  weighted avg       0.96      0.96      0.96     26928\n",
      "\n"
     ]
    },
    {
     "data": {
      "image/png": "[encoded data removed]",
      "text/plain": [
       "<Figure size 600x400 with 2 Axes>"
      ]
     },
     "metadata": {},
     "output_type": "display_data"
    }
   ],
   "source": [
    "import numpy as np\n",
    "from sklearn.metrics import confusion_matrix, classification_report\n",
    "import matplotlib.pyplot as plt\n",
    "import seaborn as sns\n",
    "\n",
    "y_pred_probs = model.predict(test_gen)\n",
    "y_pred = np.argmax(y_pred_probs, axis=1)\n",
    "y_true = test_gen.classes\n",
    "class_names = list(train_gen.class_indices.keys())\n",
    "cm = confusion_matrix(y_true, y_pred)\n",
    "\n",
    "print(\"Classification Report:\")\n",
    "print(classification_report(y_true, y_pred, target_names=class_names))\n",
    "\n",
    "plt.figure(figsize=(6,4))\n",
    "sns.heatmap(cm, annot=True, fmt=\"d\", cmap=\"Blues\", xticklabels=class_names, yticklabels=class_names)\n",
    "plt.ylabel('Actual')\n",
    "plt.xlabel('Predicted')\n",
    "plt.title('Confusion Matrix')\n",
    "plt.show()"
   ]
  },
  {
   "cell_type": "code",
   "execution_count": 18,
   "id": "86e20b56",
   "metadata": {},
   "outputs": [
    {
     "data": {
      "image/png": "[encoded data removed]",
      "text/plain": [
       "<Figure size 1000x500 with 1 Axes>"
      ]
     },
     "metadata": {},
     "output_type": "display_data"
    },
    {
     "data": {
      "image/png": "[encoded data removed]",
      "text/plain": [
       "<Figure size 1000x500 with 1 Axes>"
      ]
     },
     "metadata": {},
     "output_type": "display_data"
    }
   ],
   "source": [
    "acc = history.history['accuracy']\n",
    "val_acc = history.history['val_accuracy']\n",
    "loss = history.history['loss']\n",
    "val_loss = history.history['val_loss']\n",
    "\n",
    "epochs = range(1, len(acc) + 1)\n",
    "\n",
    "\n",
    "plt.figure(figsize=(10, 5))\n",
    "plt.plot(epochs, acc, 'bo-', label='Training Accuracy')\n",
    "plt.plot(epochs, val_acc, 'ro-', label='Validation Accuracy')\n",
    "plt.title('Training and Validation Accuracy')\n",
    "plt.xlabel('Epochs')\n",
    "plt.ylabel('Accuracy')\n",
    "plt.legend()\n",
    "plt.grid(True)\n",
    "plt.show()\n",
    "\n",
    "plt.figure(figsize=(10, 5))\n",
    "plt.plot(epochs, loss, 'bo-', label='Training Loss')\n",
    "plt.plot(epochs, val_loss, 'ro-', label='Validation Loss')\n",
    "plt.title('Training and Validation Loss')\n",
    "plt.xlabel('Epochs')\n",
    "plt.ylabel('Loss')\n",
    "plt.legend()\n",
    "plt.grid(True)\n",
    "plt.show()"
   ]
  },
  {
   "cell_type": "code",
   "execution_count": 19,
   "id": "36dd45b2",
   "metadata": {},
   "outputs": [],
   "source": [
    "\n",
    "# keras_model_path = \"C:/Users/tonyh_yxuq8za/Desktop/TONY_AI/BRAKE_CHECK_MAIN_2/best_model_brake_main_2.keras\"\n",
    "\n",
    "# # Load model\n",
    "# model = tf.keras.models.load_model(keras_model_path)\n",
    "\n",
    "# converter = tf.lite.TFLiteConverter.from_keras_model(model)\n",
    "# tflite_model = converter.convert()\n",
    "\n",
    "# tflite_model_path = keras_model_path.replace(\".keras\", \".tflite\")\n",
    "# with open(tflite_model_path, \"wb\") as f:\n",
    "#     f.write(tflite_model)\n",
    "\n",
    "# print(f\"TFLite model saved at:\\n{tflite_model_path}\")\n"
   ]
  }
 ],
 "metadata": {
  "kernelspec": {
   "display_name": "py310",
   "language": "python",
   "name": "python3"
  },
  "language_info": {
   "codemirror_mode": {
    "name": "ipython",
    "version": 3
   },
   "file_extension": ".py",
   "mimetype": "text/x-python",
   "name": "python",
   "nbconvert_exporter": "python",
   "pygments_lexer": "ipython3",
   "version": "3.10.16"
  }
 },
 "nbformat": 4,
 "nbformat_minor": 5
}
