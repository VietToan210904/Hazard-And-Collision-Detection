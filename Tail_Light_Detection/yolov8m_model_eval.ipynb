{
 "cells": [
  {
   "cell_type": "code",
   "execution_count": null,
   "id": "f78f2e85",
   "metadata": {},
   "outputs": [],
   "source": [
    "import yaml\n",
    "from ultralytics import YOLO\n",
    "\n",
    "model = YOLO(\"C:/Users/tonyh_yxuq8za/Desktop/TONY_AI/runs/detect/vehicle_yolo2/weights/best.pt\")"
   ]
  },
  {
   "cell_type": "code",
   "execution_count": 15,
   "id": "0b7f03c4",
   "metadata": {},
   "outputs": [],
   "source": [
    "dataset_path = \"C:/Users/tonyh_yxuq8za/Desktop/TONY_AI/dataset.yaml\""
   ]
  },
  {
   "cell_type": "code",
   "execution_count": 17,
   "id": "6ef64350",
   "metadata": {},
   "outputs": [],
   "source": [
    "def load_class_names(yaml_path):\n",
    "    with open(yaml_path, 'r') as f:\n",
    "        data = yaml.safe_load(f)\n",
    "    return data['names']"
   ]
  },
  {
   "cell_type": "code",
   "execution_count": 18,
   "id": "23ad6a3e",
   "metadata": {},
   "outputs": [
    {
     "name": "stdout",
     "output_type": "stream",
     "text": [
      "Class names: ['car']\n"
     ]
    }
   ],
   "source": [
    "class_names = load_class_names(dataset_path)\n",
    "print(\"Class names:\", class_names)"
   ]
  },
  {
   "cell_type": "code",
   "execution_count": 20,
   "id": "2d0513fc",
   "metadata": {},
   "outputs": [],
   "source": [
    "def evaluate_model_yolov8(model, dataset_path, split='val', class_names = None):\n",
    "    \n",
    "    print(f\"\\n Evaluating YOLOv8 on the {split.upper()} set...\\n{'-'*60}\")\n",
    "\n",
    "    # I am running the evaluation by calling the val() method of the YOLOv8 model\n",
    "    # I am passing the dataset path, split, confidence threshold, IoU threshold, and other parameters\n",
    "    metrics = model.val(\n",
    "        data = dataset_path,\n",
    "        split = split,\n",
    "        conf = 0.25,\n",
    "        iou = 0.5,\n",
    "        save_json = True,\n",
    "        plots = True,\n",
    "        save_conf = True\n",
    "    )\n",
    "\n",
    "    # I am printing the evaluation results\n",
    "    print(f\" Classes Detected: {metrics.box.nc}\")\n",
    "    print(f\" mAP@0.5: {metrics.box.map50:.4f}\")\n",
    "    print(f\" mAP@0.5:0.95: {metrics.box.map:.4f}\")\n",
    "    print(f\" Precision (mean): {metrics.box.p.mean():.4f}\")\n",
    "    print(f\" Recall (mean): {metrics.box.r.mean():.4f}\")\n",
    "    print(f\" F1 Score (mean): {metrics.box.f1.mean():.4f}\")\n",
    "    print(f\" Speed - Preprocess: {metrics.speed['preprocess']:.2f} ms\")\n",
    "    print(f\" Speed - Inference: {metrics.speed['inference']:.2f} ms\")\n",
    "    print(f\" Speed - Postprocess: {metrics.speed['postprocess']:.2f} ms\")\n",
    "\n",
    "    # I am printing the per-class AP and AR values\n",
    "    print(f\"\\n Per-Class AP@0.5 and AR\")\n",
    "    print(f\"{'Class':<20} {'AP@0.5':>10} {'AR':>10}\")\n",
    "    print(\"-\" * 40)\n",
    "    for i, (ap, recall) in enumerate(zip(metrics.box.ap50, metrics.box.r)):\n",
    "        # I am getting the class name from the class_names list\n",
    "        class_label = class_names[i] if class_names and i < len(class_names) else f\"Class {i}\"\n",
    "        print(f\"{class_label:<20} {ap:>10.4f} {recall:>10.4f}\")\n",
    "\n",
    "    print(f\"\\n{'-'*60}\\n\")\n",
    "    # I am returning the metrics object for further analysis\n",
    "    return metrics\n"
   ]
  },
  {
   "cell_type": "code",
   "execution_count": 22,
   "id": "214b0517",
   "metadata": {},
   "outputs": [
    {
     "name": "stdout",
     "output_type": "stream",
     "text": [
      "\n",
      " Evaluating YOLOv8 on the TRAIN set...\n",
      "------------------------------------------------------------\n",
      "Ultralytics 8.3.127  Python-3.12.9 torch-2.2.0+cu121 CUDA:0 (NVIDIA GeForce RTX 4070 SUPER, 12282MiB)\n",
      "\u001b[34m\u001b[1mval: \u001b[0mFast image access  (ping: 0.30.3 ms, read: 566.857.6 MB/s, size: 289.3 KB)\n"
     ]
    },
    {
     "name": "stderr",
     "output_type": "stream",
     "text": [
      "\u001b[34m\u001b[1mval: \u001b[0mScanning C:\\Users\\tonyh_yxuq8za\\Desktop\\TONY_AI\\my_dataset\\labels\\train.cache... 49571 images, 0 backgrounds, 0 corrupt: 100%|██████████| 49571/49571 [00:00<?, ?it/s]"
     ]
    },
    {
     "name": "stdout",
     "output_type": "stream",
     "text": [
      "\u001b[34m\u001b[1mtrain: \u001b[0mC:\\Users\\tonyh_yxuq8za\\Desktop\\TONY_AI\\my_dataset\\images\\train\\001702.jpg: 1 duplicate labels removed\n",
      "\u001b[34m\u001b[1mtrain: \u001b[0mC:\\Users\\tonyh_yxuq8za\\Desktop\\TONY_AI\\my_dataset\\images\\train\\001709.jpg: 1 duplicate labels removed\n",
      "\u001b[34m\u001b[1mtrain: \u001b[0mC:\\Users\\tonyh_yxuq8za\\Desktop\\TONY_AI\\my_dataset\\images\\train\\002421.jpg: 1 duplicate labels removed\n",
      "\u001b[34m\u001b[1mtrain: \u001b[0mC:\\Users\\tonyh_yxuq8za\\Desktop\\TONY_AI\\my_dataset\\images\\train\\002422.jpg: 1 duplicate labels removed\n",
      "\u001b[34m\u001b[1mtrain: \u001b[0mC:\\Users\\tonyh_yxuq8za\\Desktop\\TONY_AI\\my_dataset\\images\\train\\002425.jpg: 1 duplicate labels removed\n",
      "\u001b[34m\u001b[1mtrain: \u001b[0mC:\\Users\\tonyh_yxuq8za\\Desktop\\TONY_AI\\my_dataset\\images\\train\\002428.jpg: 1 duplicate labels removed\n",
      "\u001b[34m\u001b[1mtrain: \u001b[0mC:\\Users\\tonyh_yxuq8za\\Desktop\\TONY_AI\\my_dataset\\images\\train\\002481.jpg: 2 duplicate labels removed\n",
      "\u001b[34m\u001b[1mtrain: \u001b[0mC:\\Users\\tonyh_yxuq8za\\Desktop\\TONY_AI\\my_dataset\\images\\train\\002482.jpg: 1 duplicate labels removed\n",
      "\u001b[34m\u001b[1mtrain: \u001b[0mC:\\Users\\tonyh_yxuq8za\\Desktop\\TONY_AI\\my_dataset\\images\\train\\002535.jpg: 1 duplicate labels removed\n",
      "\u001b[34m\u001b[1mtrain: \u001b[0mC:\\Users\\tonyh_yxuq8za\\Desktop\\TONY_AI\\my_dataset\\images\\train\\002611.jpg: 1 duplicate labels removed\n",
      "\u001b[34m\u001b[1mtrain: \u001b[0mC:\\Users\\tonyh_yxuq8za\\Desktop\\TONY_AI\\my_dataset\\images\\train\\002652.jpg: 1 duplicate labels removed\n",
      "\u001b[34m\u001b[1mtrain: \u001b[0mC:\\Users\\tonyh_yxuq8za\\Desktop\\TONY_AI\\my_dataset\\images\\train\\002724.jpg: 1 duplicate labels removed\n",
      "\u001b[34m\u001b[1mtrain: \u001b[0mC:\\Users\\tonyh_yxuq8za\\Desktop\\TONY_AI\\my_dataset\\images\\train\\002803.jpg: 1 duplicate labels removed\n",
      "\u001b[34m\u001b[1mtrain: \u001b[0mC:\\Users\\tonyh_yxuq8za\\Desktop\\TONY_AI\\my_dataset\\images\\train\\002827.jpg: 1 duplicate labels removed\n",
      "\u001b[34m\u001b[1mtrain: \u001b[0mC:\\Users\\tonyh_yxuq8za\\Desktop\\TONY_AI\\my_dataset\\images\\train\\002997.jpg: 1 duplicate labels removed\n",
      "\u001b[34m\u001b[1mtrain: \u001b[0mC:\\Users\\tonyh_yxuq8za\\Desktop\\TONY_AI\\my_dataset\\images\\train\\006484.jpg: 4 duplicate labels removed\n",
      "\u001b[34m\u001b[1mtrain: \u001b[0mC:\\Users\\tonyh_yxuq8za\\Desktop\\TONY_AI\\my_dataset\\images\\train\\006690.jpg: 1 duplicate labels removed\n",
      "\u001b[34m\u001b[1mtrain: \u001b[0mC:\\Users\\tonyh_yxuq8za\\Desktop\\TONY_AI\\my_dataset\\images\\train\\006705.jpg: 3 duplicate labels removed\n",
      "\u001b[34m\u001b[1mtrain: \u001b[0mC:\\Users\\tonyh_yxuq8za\\Desktop\\TONY_AI\\my_dataset\\images\\train\\006706.jpg: 3 duplicate labels removed\n",
      "\u001b[34m\u001b[1mtrain: \u001b[0mC:\\Users\\tonyh_yxuq8za\\Desktop\\TONY_AI\\my_dataset\\images\\train\\006804.jpg: 2 duplicate labels removed\n",
      "\u001b[34m\u001b[1mtrain: \u001b[0mC:\\Users\\tonyh_yxuq8za\\Desktop\\TONY_AI\\my_dataset\\images\\train\\006827.jpg: 1 duplicate labels removed\n",
      "\u001b[34m\u001b[1mtrain: \u001b[0mC:\\Users\\tonyh_yxuq8za\\Desktop\\TONY_AI\\my_dataset\\images\\train\\006831.jpg: 1 duplicate labels removed\n",
      "\u001b[34m\u001b[1mtrain: \u001b[0mC:\\Users\\tonyh_yxuq8za\\Desktop\\TONY_AI\\my_dataset\\images\\train\\011734.jpg: 4 duplicate labels removed\n",
      "\u001b[34m\u001b[1mtrain: \u001b[0mC:\\Users\\tonyh_yxuq8za\\Desktop\\TONY_AI\\my_dataset\\images\\train\\011759.jpg: 5 duplicate labels removed\n",
      "\u001b[34m\u001b[1mtrain: \u001b[0mC:\\Users\\tonyh_yxuq8za\\Desktop\\TONY_AI\\my_dataset\\images\\train\\011760.jpg: 12 duplicate labels removed\n",
      "\u001b[34m\u001b[1mtrain: \u001b[0mC:\\Users\\tonyh_yxuq8za\\Desktop\\TONY_AI\\my_dataset\\images\\train\\011761.jpg: 1 duplicate labels removed\n",
      "\u001b[34m\u001b[1mtrain: \u001b[0mC:\\Users\\tonyh_yxuq8za\\Desktop\\TONY_AI\\my_dataset\\images\\train\\011904.jpg: 1 duplicate labels removed\n",
      "\u001b[34m\u001b[1mtrain: \u001b[0mC:\\Users\\tonyh_yxuq8za\\Desktop\\TONY_AI\\my_dataset\\images\\train\\012085.jpg: 1 duplicate labels removed\n",
      "\u001b[34m\u001b[1mtrain: \u001b[0mC:\\Users\\tonyh_yxuq8za\\Desktop\\TONY_AI\\my_dataset\\images\\train\\012526.jpg: 1 duplicate labels removed\n",
      "\u001b[34m\u001b[1mtrain: \u001b[0mC:\\Users\\tonyh_yxuq8za\\Desktop\\TONY_AI\\my_dataset\\images\\train\\016479.jpg: 1 duplicate labels removed\n",
      "\u001b[34m\u001b[1mtrain: \u001b[0mC:\\Users\\tonyh_yxuq8za\\Desktop\\TONY_AI\\my_dataset\\images\\train\\016480.jpg: 1 duplicate labels removed\n",
      "\u001b[34m\u001b[1mtrain: \u001b[0mC:\\Users\\tonyh_yxuq8za\\Desktop\\TONY_AI\\my_dataset\\images\\train\\017325.jpg: 1 duplicate labels removed\n",
      "\u001b[34m\u001b[1mtrain: \u001b[0mC:\\Users\\tonyh_yxuq8za\\Desktop\\TONY_AI\\my_dataset\\images\\train\\024631.jpg: 1 duplicate labels removed\n",
      "\u001b[34m\u001b[1mtrain: \u001b[0mC:\\Users\\tonyh_yxuq8za\\Desktop\\TONY_AI\\my_dataset\\images\\train\\024841.jpg: 1 duplicate labels removed\n",
      "\u001b[34m\u001b[1mtrain: \u001b[0mC:\\Users\\tonyh_yxuq8za\\Desktop\\TONY_AI\\my_dataset\\images\\train\\030769.jpg: 1 duplicate labels removed\n",
      "\u001b[34m\u001b[1mtrain: \u001b[0mC:\\Users\\tonyh_yxuq8za\\Desktop\\TONY_AI\\my_dataset\\images\\train\\031711.jpg: 1 duplicate labels removed\n",
      "\u001b[34m\u001b[1mtrain: \u001b[0mC:\\Users\\tonyh_yxuq8za\\Desktop\\TONY_AI\\my_dataset\\images\\train\\032485.jpg: 1 duplicate labels removed\n",
      "\u001b[34m\u001b[1mtrain: \u001b[0mC:\\Users\\tonyh_yxuq8za\\Desktop\\TONY_AI\\my_dataset\\images\\train\\035764.jpg: 1 duplicate labels removed\n",
      "\u001b[34m\u001b[1mtrain: \u001b[0mC:\\Users\\tonyh_yxuq8za\\Desktop\\TONY_AI\\my_dataset\\images\\train\\036469.jpg: 1 duplicate labels removed\n",
      "\u001b[34m\u001b[1mtrain: \u001b[0mC:\\Users\\tonyh_yxuq8za\\Desktop\\TONY_AI\\my_dataset\\images\\train\\039637.jpg: 1 duplicate labels removed\n",
      "\u001b[34m\u001b[1mtrain: \u001b[0mC:\\Users\\tonyh_yxuq8za\\Desktop\\TONY_AI\\my_dataset\\images\\train\\039855.jpg: 1 duplicate labels removed\n",
      "\u001b[34m\u001b[1mtrain: \u001b[0mC:\\Users\\tonyh_yxuq8za\\Desktop\\TONY_AI\\my_dataset\\images\\train\\042057.jpg: 1 duplicate labels removed\n",
      "\u001b[34m\u001b[1mtrain: \u001b[0mC:\\Users\\tonyh_yxuq8za\\Desktop\\TONY_AI\\my_dataset\\images\\train\\045608.jpg: 1 duplicate labels removed\n",
      "\u001b[34m\u001b[1mtrain: \u001b[0mC:\\Users\\tonyh_yxuq8za\\Desktop\\TONY_AI\\my_dataset\\images\\train\\045810.jpg: 1 duplicate labels removed\n",
      "\u001b[34m\u001b[1mtrain: \u001b[0mC:\\Users\\tonyh_yxuq8za\\Desktop\\TONY_AI\\my_dataset\\images\\train\\045811.jpg: 1 duplicate labels removed\n",
      "\u001b[34m\u001b[1mtrain: \u001b[0mC:\\Users\\tonyh_yxuq8za\\Desktop\\TONY_AI\\my_dataset\\images\\train\\045825.jpg: 1 duplicate labels removed\n",
      "\u001b[34m\u001b[1mtrain: \u001b[0mC:\\Users\\tonyh_yxuq8za\\Desktop\\TONY_AI\\my_dataset\\images\\train\\047548.jpg: 1 duplicate labels removed\n",
      "\u001b[34m\u001b[1mtrain: \u001b[0mC:\\Users\\tonyh_yxuq8za\\Desktop\\TONY_AI\\my_dataset\\images\\train\\048347.jpg: 1 duplicate labels removed\n",
      "\u001b[34m\u001b[1mtrain: \u001b[0mC:\\Users\\tonyh_yxuq8za\\Desktop\\TONY_AI\\my_dataset\\images\\train\\048794.jpg: 1 duplicate labels removed\n",
      "\u001b[34m\u001b[1mtrain: \u001b[0mC:\\Users\\tonyh_yxuq8za\\Desktop\\TONY_AI\\my_dataset\\images\\train\\048944.jpg: 1 duplicate labels removed\n",
      "\u001b[34m\u001b[1mtrain: \u001b[0mC:\\Users\\tonyh_yxuq8za\\Desktop\\TONY_AI\\my_dataset\\images\\train\\049641.jpg: 1 duplicate labels removed\n",
      "\u001b[34m\u001b[1mtrain: \u001b[0mC:\\Users\\tonyh_yxuq8za\\Desktop\\TONY_AI\\my_dataset\\images\\train\\053432.jpg: 1 duplicate labels removed\n",
      "\u001b[34m\u001b[1mtrain: \u001b[0mC:\\Users\\tonyh_yxuq8za\\Desktop\\TONY_AI\\my_dataset\\images\\train\\053667.jpg: 1 duplicate labels removed\n",
      "\u001b[34m\u001b[1mtrain: \u001b[0mC:\\Users\\tonyh_yxuq8za\\Desktop\\TONY_AI\\my_dataset\\images\\train\\058705.jpg: 1 duplicate labels removed\n",
      "\u001b[34m\u001b[1mtrain: \u001b[0mC:\\Users\\tonyh_yxuq8za\\Desktop\\TONY_AI\\my_dataset\\images\\train\\058751.jpg: 1 duplicate labels removed\n",
      "\u001b[34m\u001b[1mtrain: \u001b[0mC:\\Users\\tonyh_yxuq8za\\Desktop\\TONY_AI\\my_dataset\\images\\train\\059087.jpg: 1 duplicate labels removed\n",
      "\u001b[34m\u001b[1mtrain: \u001b[0mC:\\Users\\tonyh_yxuq8za\\Desktop\\TONY_AI\\my_dataset\\images\\train\\059098.jpg: 1 duplicate labels removed\n",
      "\u001b[34m\u001b[1mtrain: \u001b[0mC:\\Users\\tonyh_yxuq8za\\Desktop\\TONY_AI\\my_dataset\\images\\train\\065758.jpg: 1 duplicate labels removed\n",
      "\u001b[34m\u001b[1mtrain: \u001b[0mC:\\Users\\tonyh_yxuq8za\\Desktop\\TONY_AI\\my_dataset\\images\\train\\065916.jpg: 1 duplicate labels removed\n",
      "\u001b[34m\u001b[1mtrain: \u001b[0mC:\\Users\\tonyh_yxuq8za\\Desktop\\TONY_AI\\my_dataset\\images\\train\\066406.jpg: 1 duplicate labels removed\n",
      "\u001b[34m\u001b[1mtrain: \u001b[0mC:\\Users\\tonyh_yxuq8za\\Desktop\\TONY_AI\\my_dataset\\images\\train\\066584.jpg: 1 duplicate labels removed\n"
     ]
    },
    {
     "name": "stderr",
     "output_type": "stream",
     "text": [
      "\n",
      "                 Class     Images  Instances      Box(P          R      mAP50  mAP50-95): 100%|██████████| 3099/3099 [06:57<00:00,  7.43it/s]\n"
     ]
    },
    {
     "name": "stdout",
     "output_type": "stream",
     "text": [
      "                   all      49571     151875      0.933       0.91      0.956      0.846\n",
      "Speed: 0.1ms preprocess, 3.4ms inference, 0.0ms loss, 1.0ms postprocess per image\n",
      "Saving runs\\detect\\val2\\predictions.json...\n",
      "Results saved to \u001b[1mruns\\detect\\val2\u001b[0m\n",
      " Classes Detected: 1\n",
      " mAP@0.5: 0.9560\n",
      " mAP@0.5:0.95: 0.8460\n",
      " Precision (mean): 0.9334\n",
      " Recall (mean): 0.9098\n",
      " F1 Score (mean): 0.9214\n",
      " Speed - Preprocess: 0.10 ms\n",
      " Speed - Inference: 3.39 ms\n",
      " Speed - Postprocess: 0.96 ms\n",
      "\n",
      " Per-Class AP@0.5 and AR\n",
      "Class                    AP@0.5         AR\n",
      "----------------------------------------\n",
      "car                      0.9560     0.9098\n",
      "\n",
      "------------------------------------------------------------\n",
      "\n"
     ]
    }
   ],
   "source": [
    "train_metrics = evaluate_model_yolov8(model, dataset_path, split = \"train\", class_names = class_names)"
   ]
  },
  {
   "cell_type": "code",
   "execution_count": 24,
   "id": "67bfb5b2",
   "metadata": {},
   "outputs": [
    {
     "name": "stdout",
     "output_type": "stream",
     "text": [
      "\n",
      " Evaluating YOLOv8 on the VAL set...\n",
      "------------------------------------------------------------\n",
      "Ultralytics 8.3.127  Python-3.12.9 torch-2.2.0+cu121 CUDA:0 (NVIDIA GeForce RTX 4070 SUPER, 12282MiB)\n",
      "\u001b[34m\u001b[1mval: \u001b[0mFast image access  (ping: 0.20.2 ms, read: 706.5141.1 MB/s, size: 401.0 KB)\n"
     ]
    },
    {
     "name": "stderr",
     "output_type": "stream",
     "text": [
      "\u001b[34m\u001b[1mval: \u001b[0mScanning C:\\Users\\tonyh_yxuq8za\\Desktop\\TONY_AI\\my_dataset\\labels\\val.cache... 14163 images, 0 backgrounds, 0 corrupt: 100%|██████████| 14163/14163 [00:00<?, ?it/s]"
     ]
    },
    {
     "name": "stdout",
     "output_type": "stream",
     "text": [
      "\u001b[34m\u001b[1mval: \u001b[0mC:\\Users\\tonyh_yxuq8za\\Desktop\\TONY_AI\\my_dataset\\images\\val\\001575.jpg: 1 duplicate labels removed\n",
      "\u001b[34m\u001b[1mval: \u001b[0mC:\\Users\\tonyh_yxuq8za\\Desktop\\TONY_AI\\my_dataset\\images\\val\\002417.jpg: 3 duplicate labels removed\n",
      "\u001b[34m\u001b[1mval: \u001b[0mC:\\Users\\tonyh_yxuq8za\\Desktop\\TONY_AI\\my_dataset\\images\\val\\002424.jpg: 1 duplicate labels removed\n",
      "\u001b[34m\u001b[1mval: \u001b[0mC:\\Users\\tonyh_yxuq8za\\Desktop\\TONY_AI\\my_dataset\\images\\val\\007043.jpg: 1 duplicate labels removed\n",
      "\u001b[34m\u001b[1mval: \u001b[0mC:\\Users\\tonyh_yxuq8za\\Desktop\\TONY_AI\\my_dataset\\images\\val\\011765.jpg: 2 duplicate labels removed\n",
      "\u001b[34m\u001b[1mval: \u001b[0mC:\\Users\\tonyh_yxuq8za\\Desktop\\TONY_AI\\my_dataset\\images\\val\\011786.jpg: 1 duplicate labels removed\n",
      "\u001b[34m\u001b[1mval: \u001b[0mC:\\Users\\tonyh_yxuq8za\\Desktop\\TONY_AI\\my_dataset\\images\\val\\011835.jpg: 1 duplicate labels removed\n",
      "\u001b[34m\u001b[1mval: \u001b[0mC:\\Users\\tonyh_yxuq8za\\Desktop\\TONY_AI\\my_dataset\\images\\val\\012369.jpg: 1 duplicate labels removed\n",
      "\u001b[34m\u001b[1mval: \u001b[0mC:\\Users\\tonyh_yxuq8za\\Desktop\\TONY_AI\\my_dataset\\images\\val\\017035.jpg: 1 duplicate labels removed\n",
      "\u001b[34m\u001b[1mval: \u001b[0mC:\\Users\\tonyh_yxuq8za\\Desktop\\TONY_AI\\my_dataset\\images\\val\\018519.jpg: 1 duplicate labels removed\n",
      "\u001b[34m\u001b[1mval: \u001b[0mC:\\Users\\tonyh_yxuq8za\\Desktop\\TONY_AI\\my_dataset\\images\\val\\018581.jpg: 1 duplicate labels removed\n",
      "\u001b[34m\u001b[1mval: \u001b[0mC:\\Users\\tonyh_yxuq8za\\Desktop\\TONY_AI\\my_dataset\\images\\val\\024670.jpg: 1 duplicate labels removed\n",
      "\u001b[34m\u001b[1mval: \u001b[0mC:\\Users\\tonyh_yxuq8za\\Desktop\\TONY_AI\\my_dataset\\images\\val\\032053.jpg: 1 duplicate labels removed\n",
      "\u001b[34m\u001b[1mval: \u001b[0mC:\\Users\\tonyh_yxuq8za\\Desktop\\TONY_AI\\my_dataset\\images\\val\\032453.jpg: 1 duplicate labels removed\n",
      "\u001b[34m\u001b[1mval: \u001b[0mC:\\Users\\tonyh_yxuq8za\\Desktop\\TONY_AI\\my_dataset\\images\\val\\048089.jpg: 2 duplicate labels removed\n",
      "\u001b[34m\u001b[1mval: \u001b[0mC:\\Users\\tonyh_yxuq8za\\Desktop\\TONY_AI\\my_dataset\\images\\val\\048923.jpg: 2 duplicate labels removed\n",
      "\u001b[34m\u001b[1mval: \u001b[0mC:\\Users\\tonyh_yxuq8za\\Desktop\\TONY_AI\\my_dataset\\images\\val\\053261.jpg: 1 duplicate labels removed\n",
      "\u001b[34m\u001b[1mval: \u001b[0mC:\\Users\\tonyh_yxuq8za\\Desktop\\TONY_AI\\my_dataset\\images\\val\\053522.jpg: 1 duplicate labels removed\n",
      "\u001b[34m\u001b[1mval: \u001b[0mC:\\Users\\tonyh_yxuq8za\\Desktop\\TONY_AI\\my_dataset\\images\\val\\059097.jpg: 1 duplicate labels removed\n",
      "\u001b[34m\u001b[1mval: \u001b[0mC:\\Users\\tonyh_yxuq8za\\Desktop\\TONY_AI\\my_dataset\\images\\val\\066585.jpg: 1 duplicate labels removed\n",
      "\u001b[34m\u001b[1mval: \u001b[0mC:\\Users\\tonyh_yxuq8za\\Desktop\\TONY_AI\\my_dataset\\images\\val\\069990.jpg: 1 duplicate labels removed\n"
     ]
    },
    {
     "name": "stderr",
     "output_type": "stream",
     "text": [
      "\n",
      "                 Class     Images  Instances      Box(P          R      mAP50  mAP50-95): 100%|██████████| 886/886 [02:12<00:00,  6.71it/s]\n"
     ]
    },
    {
     "name": "stdout",
     "output_type": "stream",
     "text": [
      "                   all      14163      43464      0.923      0.907      0.951      0.841\n",
      "Speed: 0.1ms preprocess, 3.4ms inference, 0.0ms loss, 1.1ms postprocess per image\n",
      "Saving runs\\detect\\val3\\predictions.json...\n",
      "Results saved to \u001b[1mruns\\detect\\val3\u001b[0m\n",
      " Classes Detected: 1\n",
      " mAP@0.5: 0.9511\n",
      " mAP@0.5:0.95: 0.8405\n",
      " Precision (mean): 0.9233\n",
      " Recall (mean): 0.9073\n",
      " F1 Score (mean): 0.9153\n",
      " Speed - Preprocess: 0.10 ms\n",
      " Speed - Inference: 3.42 ms\n",
      " Speed - Postprocess: 1.09 ms\n",
      "\n",
      " Per-Class AP@0.5 and AR\n",
      "Class                    AP@0.5         AR\n",
      "----------------------------------------\n",
      "car                      0.9511     0.9073\n",
      "\n",
      "------------------------------------------------------------\n",
      "\n"
     ]
    }
   ],
   "source": [
    "val_metrics = evaluate_model_yolov8(model, dataset_path, split = \"val\", class_names = class_names)"
   ]
  },
  {
   "cell_type": "code",
   "execution_count": 25,
   "id": "a29cb8ed",
   "metadata": {},
   "outputs": [
    {
     "name": "stdout",
     "output_type": "stream",
     "text": [
      "\n",
      " Evaluating YOLOv8 on the TEST set...\n",
      "------------------------------------------------------------\n",
      "Ultralytics 8.3.127  Python-3.12.9 torch-2.2.0+cu121 CUDA:0 (NVIDIA GeForce RTX 4070 SUPER, 12282MiB)\n",
      "\u001b[34m\u001b[1mval: \u001b[0mFast image access  (ping: 0.20.2 ms, read: 80.122.4 MB/s, size: 386.8 KB)\n"
     ]
    },
    {
     "name": "stderr",
     "output_type": "stream",
     "text": [
      "\u001b[34m\u001b[1mval: \u001b[0mScanning C:\\Users\\tonyh_yxuq8za\\Desktop\\TONY_AI\\my_dataset\\labels\\test... 7082 images, 0 backgrounds, 0 corrupt: 100%|██████████| 7082/7082 [00:11<00:00, 643.80it/s]"
     ]
    },
    {
     "name": "stdout",
     "output_type": "stream",
     "text": [
      "\u001b[34m\u001b[1mval: \u001b[0mC:\\Users\\tonyh_yxuq8za\\Desktop\\TONY_AI\\my_dataset\\images\\test\\006810.jpg: 1 duplicate labels removed\n",
      "\u001b[34m\u001b[1mval: \u001b[0mC:\\Users\\tonyh_yxuq8za\\Desktop\\TONY_AI\\my_dataset\\images\\test\\006857.jpg: 1 duplicate labels removed\n",
      "\u001b[34m\u001b[1mval: \u001b[0mC:\\Users\\tonyh_yxuq8za\\Desktop\\TONY_AI\\my_dataset\\images\\test\\011647.jpg: 1 duplicate labels removed\n",
      "\u001b[34m\u001b[1mval: \u001b[0mC:\\Users\\tonyh_yxuq8za\\Desktop\\TONY_AI\\my_dataset\\images\\test\\011733.jpg: 3 duplicate labels removed\n",
      "\u001b[34m\u001b[1mval: \u001b[0mC:\\Users\\tonyh_yxuq8za\\Desktop\\TONY_AI\\my_dataset\\images\\test\\024802.jpg: 1 duplicate labels removed\n",
      "\u001b[34m\u001b[1mval: \u001b[0mC:\\Users\\tonyh_yxuq8za\\Desktop\\TONY_AI\\my_dataset\\images\\test\\035972.jpg: 1 duplicate labels removed\n",
      "\u001b[34m\u001b[1mval: \u001b[0mC:\\Users\\tonyh_yxuq8za\\Desktop\\TONY_AI\\my_dataset\\images\\test\\045824.jpg: 1 duplicate labels removed\n",
      "\u001b[34m\u001b[1mval: \u001b[0mC:\\Users\\tonyh_yxuq8za\\Desktop\\TONY_AI\\my_dataset\\images\\test\\046072.jpg: 1 duplicate labels removed\n",
      "\u001b[34m\u001b[1mval: \u001b[0mC:\\Users\\tonyh_yxuq8za\\Desktop\\TONY_AI\\my_dataset\\images\\test\\053877.jpg: 1 duplicate labels removed\n",
      "\u001b[34m\u001b[1mval: \u001b[0mC:\\Users\\tonyh_yxuq8za\\Desktop\\TONY_AI\\my_dataset\\images\\test\\059100.jpg: 1 duplicate labels removed\n",
      "\u001b[34m\u001b[1mval: \u001b[0mC:\\Users\\tonyh_yxuq8za\\Desktop\\TONY_AI\\my_dataset\\images\\test\\061023.jpg: 1 duplicate labels removed\n",
      "\u001b[34m\u001b[1mval: \u001b[0mC:\\Users\\tonyh_yxuq8za\\Desktop\\TONY_AI\\my_dataset\\images\\test\\061078.jpg: 1 duplicate labels removed\n",
      "\u001b[34m\u001b[1mval: \u001b[0mC:\\Users\\tonyh_yxuq8za\\Desktop\\TONY_AI\\my_dataset\\images\\test\\065875.jpg: 1 duplicate labels removed\n",
      "\u001b[34m\u001b[1mval: \u001b[0mC:\\Users\\tonyh_yxuq8za\\Desktop\\TONY_AI\\my_dataset\\images\\test\\066404.jpg: 1 duplicate labels removed\n"
     ]
    },
    {
     "name": "stderr",
     "output_type": "stream",
     "text": [
      "\n"
     ]
    },
    {
     "name": "stdout",
     "output_type": "stream",
     "text": [
      "\u001b[34m\u001b[1mval: \u001b[0mNew cache created: C:\\Users\\tonyh_yxuq8za\\Desktop\\TONY_AI\\my_dataset\\labels\\test.cache\n"
     ]
    },
    {
     "name": "stderr",
     "output_type": "stream",
     "text": [
      "                 Class     Images  Instances      Box(P          R      mAP50  mAP50-95): 100%|██████████| 443/443 [00:53<00:00,  8.35it/s]\n"
     ]
    },
    {
     "name": "stdout",
     "output_type": "stream",
     "text": [
      "                   all       7082      21593      0.928        0.9      0.949      0.837\n",
      "Speed: 0.1ms preprocess, 3.5ms inference, 0.0ms loss, 0.8ms postprocess per image\n",
      "Saving runs\\detect\\val4\\predictions.json...\n",
      "Results saved to \u001b[1mruns\\detect\\val4\u001b[0m\n",
      " Classes Detected: 1\n",
      " mAP@0.5: 0.9493\n",
      " mAP@0.5:0.95: 0.8374\n",
      " Precision (mean): 0.9282\n",
      " Recall (mean): 0.8996\n",
      " F1 Score (mean): 0.9136\n",
      " Speed - Preprocess: 0.10 ms\n",
      " Speed - Inference: 3.46 ms\n",
      " Speed - Postprocess: 0.78 ms\n",
      "\n",
      " Per-Class AP@0.5 and AR\n",
      "Class                    AP@0.5         AR\n",
      "----------------------------------------\n",
      "car                      0.9493     0.8996\n",
      "\n",
      "------------------------------------------------------------\n",
      "\n"
     ]
    }
   ],
   "source": [
    "test_metrics = evaluate_model_yolov8(model, dataset_path, split = \"test\", class_names = class_names)"
   ]
  },
  {
   "cell_type": "code",
   "execution_count": null,
   "id": "f887423c",
   "metadata": {},
   "outputs": [],
   "source": []
  }
 ],
 "metadata": {
  "kernelspec": {
   "display_name": "py312",
   "language": "python",
   "name": "python3"
  },
  "language_info": {
   "codemirror_mode": {
    "name": "ipython",
    "version": 3
   },
   "file_extension": ".py",
   "mimetype": "text/x-python",
   "name": "python",
   "nbconvert_exporter": "python",
   "pygments_lexer": "ipython3",
   "version": "3.12.9"
  }
 },
 "nbformat": 4,
 "nbformat_minor": 5
}
